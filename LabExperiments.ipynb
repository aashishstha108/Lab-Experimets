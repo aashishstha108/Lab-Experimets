{
 "cells": [
  {
   "cell_type": "markdown",
   "metadata": {
    "id": "Vln8ebHIfu9-"
   },
   "source": [
    "# Experiments"
   ]
  },
  {
   "cell_type": "markdown",
   "metadata": {
    "id": "ATvVEirmf_TN"
   },
   "source": [
    "## Quesion 1\n",
    "### **Programs on selection and Iteration options**\n",
    "* Get an integer input from a user. If the number is odd, then find the factorial of a number and find the number of digits in the factorial of the number. If the number is even then check the number is palindome or not."
   ]
  },
  {
   "cell_type": "code",
   "execution_count": 1,
   "metadata": {
    "colab": {
     "base_uri": "https://localhost:8080/"
    },
    "id": "MPY-VBFNfyKm",
    "outputId": "4b744d7f-a0a8-4b7b-9e94-51229ded2353"
   },
   "outputs": [
    {
     "name": "stdout",
     "output_type": "stream",
     "text": [
      "Enter an integer: 12\n",
      "12 is not a palindrome.\n"
     ]
    }
   ],
   "source": [
    "#Functions for EACH processes\n",
    "\n",
    "def fact(n):\n",
    "    if n == 0:\n",
    "        return 1\n",
    "    else:\n",
    "        return n * fact(n-1)\n",
    "\n",
    "def count_digits(number):\n",
    "    count = 0\n",
    "    while number != 0:\n",
    "        number //= 10\n",
    "        count += 1\n",
    "    return count\n",
    "\n",
    "def is_palindrome(number):\n",
    "    num_str = str(number)\n",
    "    return num_str == num_str[::-1]\n",
    "\n",
    "# Start of the program\n",
    "num = int(input(\"Enter an integer: \"))\n",
    "\n",
    "if num % 2 == 1:  # Odd num\n",
    "    factorial = fact(num)\n",
    "    digit_count = count_digits(fact)\n",
    "    print(f\"The factorial of {num} is: {factorial}\")\n",
    "    print(f\"The number of digits in the factorial of {num} is: {digit_count}\")\n",
    "else:  # Even num\n",
    "    if is_palindrome(num):\n",
    "        print(f\"{num} is a palindrome.\")\n",
    "    else:\n",
    "        print(f\"{num} is not a palindrome.\")\n",
    "\n"
   ]
  },
  {
   "cell_type": "markdown",
   "metadata": {
    "id": "05tv8glYiwxi"
   },
   "source": [
    "## Quesion 2\n",
    "### **String and is operaions**\n",
    "* Given two strings, PRINT (YES or NO) weaher he second string can be obtained from he first by deleteion of none, one or more characters."
   ]
  },
  {
   "cell_type": "code",
   "execution_count": 3,
   "metadata": {
    "colab": {
     "base_uri": "https://localhost:8080/"
    },
    "id": "MhYxV8jTjcZD",
    "outputId": "74d89dc8-6144-47dd-fbde-c39f25408b18"
   },
   "outputs": [
    {
     "name": "stdout",
     "output_type": "stream",
     "text": [
      "reon\n"
     ]
    },
    {
     "data": {
      "text/plain": [
       "True"
      ]
     },
     "execution_count": 3,
     "metadata": {},
     "output_type": "execute_result"
    }
   ],
   "source": [
    "def subset_checker(pop, sample):\n",
    "  for i in range(len(pop)):\n",
    "    if pop[i] == sample[0]:\n",
    "      if pop[i:i+len(sample)] == sample:\n",
    "        return True\n",
    "  return False\n",
    "\n",
    "inp = input()\n",
    "inp = inp.lower()\n",
    "text = \"METHIONYLTHREONYLTHREONYGLUTAMINYLARGINYLEUCINE\"\n",
    "text = text.lower()\n",
    "\n",
    "subset_checker(text, inp)"
   ]
  },
  {
   "cell_type": "markdown",
   "metadata": {
    "id": "fAo6xmZ-pIpZ"
   },
   "source": [
    "## Quesion 3\n",
    "### **List and its operations**\n",
    "* Program for positive and negative indexing\n",
    "* Program to check if the given list is in ascending order or not"
   ]
  },
  {
   "cell_type": "code",
   "execution_count": 4,
   "metadata": {
    "colab": {
     "base_uri": "https://localhost:8080/"
    },
    "id": "mAcmq0OuneoZ",
    "outputId": "55e645a9-9726-40fc-b521-251b38fedfc9"
   },
   "outputs": [
    {
     "name": "stdout",
     "output_type": "stream",
     "text": [
      "9\n",
      "9\n",
      "[6, 3, 9, 1]\n",
      "[6, 9]\n"
     ]
    }
   ],
   "source": [
    "lis = [5, 6, 3, 9, 1]\n",
    "\n",
    "print(lis[3])\n",
    "print(lis[-2])\n",
    "print(lis[1:])\n",
    "print(lis[1:4:2])"
   ]
  },
  {
   "cell_type": "code",
   "execution_count": 5,
   "metadata": {
    "colab": {
     "base_uri": "https://localhost:8080/"
    },
    "id": "CUEtrAloqdTf",
    "outputId": "621bb697-5cbb-4bc2-f0f1-d6aa37f2fdda"
   },
   "outputs": [
    {
     "name": "stdout",
     "output_type": "stream",
     "text": [
      "True\n",
      "False\n"
     ]
    }
   ],
   "source": [
    "lis = [1, 2, 3, 4, 5, 6, 7, 8, 9]\n",
    "lis1 = [1, 2 , 4, 8, 12, 3, 4]\n",
    "\n",
    "def asc_checker(lis):\n",
    "  for i in range(len(lis)-1):\n",
    "    if lis[i]>lis[i+1]:\n",
    "      return False\n",
    "  return True\n",
    "\n",
    "print(asc_checker(lis))\n",
    "print(asc_checker(lis1))"
   ]
  },
  {
   "cell_type": "markdown",
   "metadata": {
    "id": "mfQVp7Cer81M"
   },
   "source": [
    "## Quesion 4\n",
    "### **Tuples and its operations**\n",
    "* Program for converting tuple to string\n",
    "* Program to reverse a tuple"
   ]
  },
  {
   "cell_type": "code",
   "execution_count": 7,
   "metadata": {
    "colab": {
     "base_uri": "https://localhost:8080/",
     "height": 38
    },
    "id": "DsqkxVLBsJFu",
    "outputId": "997f1b8d-92e5-4379-f5a1-e07d02c3166a"
   },
   "outputs": [
    {
     "data": {
      "text/plain": [
       "' Welcome to my world !'"
      ]
     },
     "execution_count": 7,
     "metadata": {},
     "output_type": "execute_result"
    }
   ],
   "source": [
    "def tup_str(n):\n",
    "  str = \"\"\n",
    "  for i in tup:\n",
    "    str = str + \" \" + i\n",
    "  return str\n",
    "\n",
    "tup = ('Welcome', 'to', 'my', 'world', '!')\n",
    "\n",
    "tup_str(tup)"
   ]
  },
  {
   "cell_type": "code",
   "execution_count": 8,
   "metadata": {
    "colab": {
     "base_uri": "https://localhost:8080/"
    },
    "id": "edEQcdZxtcug",
    "outputId": "1382bf12-cf7b-4f37-ba44-1d63c0b777ca"
   },
   "outputs": [
    {
     "name": "stdout",
     "output_type": "stream",
     "text": [
      "(10, 9, 8, 7, 6)\n"
     ]
    }
   ],
   "source": [
    "def reverse_tup(tuple_data):\n",
    "    reversed_tup = tuple_data[::-1]\n",
    "    return reversed_tup\n",
    "\n",
    "# Example usage\n",
    "my_tuple = (6 , 7, 8, 9, 10)\n",
    "reversed_tuple = reverse_tup(my_tuple)\n",
    "\n",
    "print(reversed_tuple)"
   ]
  },
  {
   "cell_type": "markdown",
   "metadata": {
    "id": "78AT9mN0v_h8"
   },
   "source": [
    "## Quesion 5\n",
    "### **Sets and its operations**\n",
    "* Program to check if a set is a subset of the other set"
   ]
  },
  {
   "cell_type": "code",
   "execution_count": 9,
   "metadata": {
    "colab": {
     "base_uri": "https://localhost:8080/"
    },
    "id": "SYbbqRvjv1Os",
    "outputId": "7a245a1b-54a8-4640-dfb1-7de47d1d2003"
   },
   "outputs": [
    {
     "name": "stdout",
     "output_type": "stream",
     "text": [
      "True\n",
      "False\n"
     ]
    }
   ],
   "source": [
    "def subset(set1, set2):\n",
    "    for i in set1:\n",
    "        if i not in set2:\n",
    "            return False\n",
    "    return True\n",
    "\n",
    "# Example usage\n",
    "set1 = {1, 2, 3, 4, 5}\n",
    "set2 = {3, 4}\n",
    "set3 = {9, 10}\n",
    "\n",
    "\n",
    "temp = subset(set2, set1)\n",
    "print(temp)\n",
    "temp = subset(set3, set1)\n",
    "print(temp)\n"
   ]
  },
  {
   "cell_type": "markdown",
   "metadata": {
    "id": "3Y8nlHTsKp4y"
   },
   "source": [
    "## Quesion 6\n",
    "### **Dictionary and its operations**\n",
    "* python program to iterate over dictionaries using for loop\n",
    "\n"
   ]
  },
  {
   "cell_type": "code",
   "execution_count": 10,
   "metadata": {
    "colab": {
     "base_uri": "https://localhost:8080/"
    },
    "id": "aqfQEheOw4Lw",
    "outputId": "f5de535b-07f9-42d8-bc00-c50b58c92231"
   },
   "outputs": [
    {
     "name": "stdout",
     "output_type": "stream",
     "text": [
      "hari : gita\n",
      "krish : rupmani\n",
      "ganga : yamuna\n"
     ]
    }
   ],
   "source": [
    "my_dict = {'hari': 'gita', 'krish': 'rupmani', 'ganga': 'yamuna'}\n",
    "\n",
    "# Iterating over the dictionary using a for loop\n",
    "for key in my_dict:\n",
    "    value = my_dict[key]\n",
    "    print(key, ':', value)\n"
   ]
  }
 ],
 "metadata": {
  "colab": {
   "provenance": []
  },
  "kernelspec": {
   "display_name": "Python 3 (ipykernel)",
   "language": "python",
   "name": "python3"
  },
  "language_info": {
   "codemirror_mode": {
    "name": "ipython",
    "version": 3
   },
   "file_extension": ".py",
   "mimetype": "text/x-python",
   "name": "python",
   "nbconvert_exporter": "python",
   "pygments_lexer": "ipython3",
   "version": "3.10.9"
  }
 },
 "nbformat": 4,
 "nbformat_minor": 1
}
